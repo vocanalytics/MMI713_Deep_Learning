{
  "nbformat": 4,
  "nbformat_minor": 0,
  "metadata": {
    "kernelspec": {
      "display_name": "Python 3",
      "language": "python",
      "name": "python3"
    },
    "language_info": {
      "codemirror_mode": {
        "name": "ipython",
        "version": 3
      },
      "file_extension": ".py",
      "mimetype": "text/x-python",
      "name": "python",
      "nbconvert_exporter": "python",
      "pygments_lexer": "ipython3",
      "version": "3.5.4"
    },
    "colab": {
      "name": "Question 2.ipynb",
      "provenance": []
    }
  },
  "cells": [
    {
      "cell_type": "markdown",
      "metadata": {
        "id": "LgXZK6bS_VMG",
        "colab_type": "text"
      },
      "source": [
        "# 2. Convolution and Pooling (10 - 10 pts)"
      ]
    },
    {
      "cell_type": "markdown",
      "metadata": {
        "id": "jKzohlkk_VMI",
        "colab_type": "text"
      },
      "source": [
        "### a) Write a function for convolution operation in the cell below. Write your own code with your own algorithm. It should have necessary error checks for matrix dimensions (consider multichannel matrices). Inputs must have the same structure as Tensorflow convolution operation and also the results must be same. Check [tf.nn.convolution](https://www.tensorflow.org/api_docs/python/tf/nn/convolution)"
      ]
    },
    {
      "cell_type": "code",
      "metadata": {
        "id": "A9V5NC99_VMJ",
        "colab_type": "code",
        "colab": {
          "base_uri": "https://localhost:8080/",
          "height": 80
        },
        "outputId": "13344922-488f-4758-cf70-05fc01a9b47f"
      },
      "source": [
        "import tensorflow as tf\n",
        "import numpy as np\n",
        "tf.__version__"
      ],
      "execution_count": 1,
      "outputs": [
        {
          "output_type": "display_data",
          "data": {
            "text/html": [
              "<p style=\"color: red;\">\n",
              "The default version of TensorFlow in Colab will soon switch to TensorFlow 2.x.<br>\n",
              "We recommend you <a href=\"https://www.tensorflow.org/guide/migrate\" target=\"_blank\">upgrade</a> now \n",
              "or ensure your notebook will continue to use TensorFlow 1.x via the <code>%tensorflow_version 1.x</code> magic:\n",
              "<a href=\"https://colab.research.google.com/notebooks/tensorflow_version.ipynb\" target=\"_blank\">more info</a>.</p>\n"
            ],
            "text/plain": [
              "<IPython.core.display.HTML object>"
            ]
          },
          "metadata": {
            "tags": []
          }
        },
        {
          "output_type": "execute_result",
          "data": {
            "text/plain": [
              "'1.15.0'"
            ]
          },
          "metadata": {
            "tags": []
          },
          "execution_count": 1
        }
      ]
    },
    {
      "cell_type": "code",
      "metadata": {
        "id": "4L8AgjdT_VMO",
        "colab_type": "code",
        "colab": {}
      },
      "source": [
        "def my_convolution(my_input, my_filter, my_padding, my_strides):\n",
        "    # WRITE YOUR OWN CONVOLUTION IMPLEMENTATION HERE\n",
        "    \n",
        "    return my_output"
      ],
      "execution_count": 0,
      "outputs": []
    },
    {
      "cell_type": "code",
      "metadata": {
        "id": "4j4Hyo63_VMS",
        "colab_type": "code",
        "colab": {}
      },
      "source": [
        "def tf_convolution(tf_input, tf_filter, tf_padding, tf_strides):\n",
        "    \n",
        "    sess = tf.Session()\n",
        "    tf_function = tf.nn.convolution(input=tf_input, filter=tf_filter, padding=tf_padding, strides=tf_strides)\n",
        "    tf_output = sess.run(tf_function)\n",
        "    sess.close()\n",
        "    \n",
        "    return tf_output"
      ],
      "execution_count": 0,
      "outputs": []
    },
    {
      "cell_type": "code",
      "metadata": {
        "id": "goMUh2nu_VMV",
        "colab_type": "code",
        "colab": {}
      },
      "source": [
        "sample_input = np.random.random([1,4,4,1])\n",
        "sample_filter = np.random.random([2,2,1,1])\n",
        "sample_padding = \"VALID\"\n",
        "sample_strides = [1,1]\n",
        "\n",
        "tf_output = tf_convolution(sample_input,sample_filter,sample_padding,sample_strides)\n",
        "#my_output = my_convolution(sample_input,sample_filter,sample_padding,sample_strides)\n",
        "\n",
        "print(\"input:\")\n",
        "print(sample_input)\n",
        "print(\"filter:\")\n",
        "print(sample_filter)\n",
        "print(\"output:\")\n",
        "print(tf_output)"
      ],
      "execution_count": 0,
      "outputs": []
    },
    {
      "cell_type": "markdown",
      "metadata": {
        "id": "iY7trcZw_VMY",
        "colab_type": "text"
      },
      "source": [
        "### b) Write a function for pooling operation in the cell below. Write your own code with your own algorithm. It should have necessary error checks for matrix dimensions (consider multichannel matrices). Inputs must have the same structure as Tensorflow pooling operation and also the results must be same. Check [tf.nn.pool](https://www.tensorflow.org/api_docs/python/tf/nn/pool)"
      ]
    },
    {
      "cell_type": "code",
      "metadata": {
        "id": "lY7PQmHy_VMZ",
        "colab_type": "code",
        "colab": {}
      },
      "source": [
        "def my_pooling(my_input, my_window_shape, my_pooling_type, my_padding, my_strides):\n",
        "    # WRITE YOUR OWN POOLING IMPLEMENTATION HERE\n",
        "    \n",
        "    return my_output"
      ],
      "execution_count": 0,
      "outputs": []
    },
    {
      "cell_type": "code",
      "metadata": {
        "id": "jtqrCJn2_VMb",
        "colab_type": "code",
        "colab": {}
      },
      "source": [
        "def tf_pooling(tf_input, tf_window_shape, tf_pooling_type, tf_padding, tf_strides):\n",
        "    \n",
        "    sess = tf.Session()\n",
        "    tf_function = tf.nn.pool(input=tf_input, window_shape=tf_window_shape, pooling_type=tf_pooling_type, padding=tf_padding, strides=tf_strides)\n",
        "    tf_output = sess.run(tf_function)\n",
        "    sess.close()\n",
        "    \n",
        "    return tf_output"
      ],
      "execution_count": 0,
      "outputs": []
    },
    {
      "cell_type": "code",
      "metadata": {
        "id": "muOVhJkM_VMh",
        "colab_type": "code",
        "colab": {}
      },
      "source": [
        "sample_input = np.random.random([1,4,4,1])\n",
        "sample_window_shape = [2,2]\n",
        "sample_pooling_type = \"MAX\"\n",
        "sample_padding = \"VALID\"\n",
        "sample_strides = [2,2]\n",
        "\n",
        "tf_output = tf_pooling(sample_input,sample_window_shape,sample_pooling_type,sample_padding,sample_strides)\n",
        "#my_output = my_pooling(my_input, my_window_shape, my_pooling_type, my_padding)\n",
        "\n",
        "print(\"input:\")\n",
        "print(sample_input)\n",
        "print(\"output:\")\n",
        "print(tf_output)"
      ],
      "execution_count": 0,
      "outputs": []
    }
  ]
}